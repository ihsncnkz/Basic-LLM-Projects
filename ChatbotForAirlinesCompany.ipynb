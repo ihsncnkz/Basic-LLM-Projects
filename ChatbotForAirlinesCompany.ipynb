{
 "cells": [
  {
   "cell_type": "markdown",
   "id": "128e0e1d-62b3-4ed9-ba3f-dc15a665151d",
   "metadata": {},
   "source": [
    "# Introduction\n",
    "In this project, I create an AI chatbot about airlines. The chatbot will give information about airline tickets and available chairs."
   ]
  },
  {
   "cell_type": "code",
   "execution_count": 1,
   "id": "18167bef-3700-47bf-9ae6-8381db8aea67",
   "metadata": {},
   "outputs": [],
   "source": [
    "# Library\n",
    "import os\n",
    "import json\n",
    "import gradio as gr\n",
    "from dotenv import load_dotenv\n",
    "from openai import OpenAI"
   ]
  },
  {
   "cell_type": "code",
   "execution_count": 2,
   "id": "144809c9-a443-4c83-8122-44819b801d4f",
   "metadata": {},
   "outputs": [
    {
     "name": "stdout",
     "output_type": "stream",
     "text": [
      "OpenAI API Key exists and begins sk-proj-\n"
     ]
    }
   ],
   "source": [
    "# Checking API key for using the AI model from Openai\n",
    "load_dotenv(override = True)\n",
    "\n",
    "openai_api_key = os.getenv('OPENAI_API_KEY')\n",
    "if openai_api_key:\n",
    "    print(f\"OpenAI API Key exists and begins {openai_api_key[:8]}\")\n",
    "else:\n",
    "    print(\"OpenAI API Key not set\")\n",
    "\n",
    "MODEL = \"gpt-4o-mini\"\n",
    "openai = OpenAI()"
   ]
  },
  {
   "cell_type": "code",
   "execution_count": 19,
   "id": "8b846963-b2f8-4ffd-a558-b8d2e36f50a0",
   "metadata": {},
   "outputs": [],
   "source": [
    "system_message = \"You are a helpful assistant for an Airline called FlightAI. \"\n",
    "system_message += \"Give short, courteous answers, no more than 1 sentence. \"\n",
    "system_message += \"Always be accurate. If you don't know the answer, say so.\""
   ]
  },
  {
   "cell_type": "code",
   "execution_count": 7,
   "id": "7714d932-5122-4564-b34f-80c06f6157c3",
   "metadata": {},
   "outputs": [],
   "source": [
    "# I create the tools function for ai model.\n",
    "airplan_chair_statu = {'1' : 'Empty',\n",
    "                      '2' : 'Empty',\n",
    "                      '3' : 'Full',\n",
    "                      '4' : 'Full',\n",
    "                      '6' : 'Empty',\n",
    "                      '7' : 'Empty',\n",
    "                      '8' : 'Empty',\n",
    "                      '9' : 'Empty',\n",
    "                      '10' : 'Full',\n",
    "                      '11' : 'Full',\n",
    "                      '12' : 'Empty',\n",
    "                      '13' : 'Empty'}\n",
    "\n",
    "tickets_hour = {'paris': [{'hour': '18.00', 'price': '$599'},\n",
    "                    {'hour': '22.00', 'price': '$399'}],\n",
    "                'london': [{'hour': '12.00', 'price': '$499'}],\n",
    "                'istanbul': [{'hour': '15.00', 'price': '$449'},\n",
    "                      {'hour': '18.00', 'price': '$599'},\n",
    "                      {'hour': '21.00', 'price': '$499'}],\n",
    "                'berlin': [{'hour': '11.00', 'price': '$299'},\n",
    "                    {'hour': '15.00', 'price': '$499'},\n",
    "                    {'hour': '18.00', 'price': '$799'}]\n",
    "               }\n",
    "\n",
    "ticket_place = {\"london\": \"Not Full\", \"paris\": \"Not Full\", \"istanbul\": \"Not Full\", \"berlin\": \"Not Full\", \"tokyo\": \"Full\", \"california\": \"Full\", \"pekin\": \"Full\"}\n",
    "\n",
    "def get_ticket_place(destination_city):\n",
    "    print(f\"Select the destination city is {destination_city}\")\n",
    "    city = destination_city.lower()\n",
    "    return ticket_place.get(city, \"Unknown\")\n",
    "\n",
    "def get_tickets_hours(destination_city):\n",
    "    print(f\"Select the destination city is {destination_city}\")\n",
    "    city = destination_city.lower()\n",
    "    return tickets_hour.get(city, 'Unknown')\n",
    "\n",
    "def get_chair(number_of_chair):\n",
    "    print(f\"Select the number of chair {number_of_chair}\")\n",
    "    return airplan_chair_statu.get(number_of_chair, 'Unknown')"
   ]
  },
  {
   "cell_type": "code",
   "execution_count": 8,
   "id": "10f19ea4-c496-4d66-bf66-265ff97246c2",
   "metadata": {},
   "outputs": [
    {
     "name": "stdout",
     "output_type": "stream",
     "text": [
      "Select the destination city is Istanbul\n"
     ]
    },
    {
     "data": {
      "text/plain": [
       "'Not Full'"
      ]
     },
     "execution_count": 8,
     "metadata": {},
     "output_type": "execute_result"
    }
   ],
   "source": [
    "get_ticket_place('Istanbul')"
   ]
  },
  {
   "cell_type": "code",
   "execution_count": 9,
   "id": "3c1295b1-7481-4528-97a6-464e197bc85e",
   "metadata": {},
   "outputs": [
    {
     "name": "stdout",
     "output_type": "stream",
     "text": [
      "Select the destination city is Tokyo\n"
     ]
    },
    {
     "data": {
      "text/plain": [
       "'Full'"
      ]
     },
     "execution_count": 9,
     "metadata": {},
     "output_type": "execute_result"
    }
   ],
   "source": [
    "get_ticket_place('Tokyo')"
   ]
  },
  {
   "cell_type": "code",
   "execution_count": 10,
   "id": "e3191604-c543-4082-8725-e98c413a52a3",
   "metadata": {},
   "outputs": [
    {
     "name": "stdout",
     "output_type": "stream",
     "text": [
      "Select the destination city is london\n"
     ]
    },
    {
     "data": {
      "text/plain": [
       "[{'hour': '12.00', 'price': '$499'}]"
      ]
     },
     "execution_count": 10,
     "metadata": {},
     "output_type": "execute_result"
    }
   ],
   "source": [
    "get_tickets_hours('london')"
   ]
  },
  {
   "cell_type": "code",
   "execution_count": 11,
   "id": "2da651fa-df0d-4b06-939a-b13a7fef015a",
   "metadata": {},
   "outputs": [
    {
     "name": "stdout",
     "output_type": "stream",
     "text": [
      "Select the destination city is istanbul\n"
     ]
    },
    {
     "data": {
      "text/plain": [
       "[{'hour': '15.00', 'price': '$449'},\n",
       " {'hour': '18.00', 'price': '$599'},\n",
       " {'hour': '21.00', 'price': '$499'}]"
      ]
     },
     "execution_count": 11,
     "metadata": {},
     "output_type": "execute_result"
    }
   ],
   "source": [
    "get_tickets_hours('istanbul')"
   ]
  },
  {
   "cell_type": "code",
   "execution_count": 12,
   "id": "1a1004ac-f4c5-4827-a4d2-1129f46eec0c",
   "metadata": {},
   "outputs": [
    {
     "name": "stdout",
     "output_type": "stream",
     "text": [
      "Select the number of chair 1\n"
     ]
    },
    {
     "data": {
      "text/plain": [
       "'Empty'"
      ]
     },
     "execution_count": 12,
     "metadata": {},
     "output_type": "execute_result"
    }
   ],
   "source": [
    "get_chair('1')"
   ]
  },
  {
   "cell_type": "code",
   "execution_count": 13,
   "id": "fa1365b9-50e6-48e3-b343-9913d4fd5517",
   "metadata": {},
   "outputs": [
    {
     "name": "stdout",
     "output_type": "stream",
     "text": [
      "Select the number of chair 3\n"
     ]
    },
    {
     "data": {
      "text/plain": [
       "'Full'"
      ]
     },
     "execution_count": 13,
     "metadata": {},
     "output_type": "execute_result"
    }
   ],
   "source": [
    "get_chair('3')"
   ]
  },
  {
   "cell_type": "code",
   "execution_count": 14,
   "id": "387a0d72-ee24-4b8d-8870-e7a33f125f79",
   "metadata": {},
   "outputs": [],
   "source": [
    "# I prepare the tool funtion for openai ai model. If the model use funtion you have to prepare the functions.\n",
    "ticket_place_function = {\n",
    "    'name': 'get_ticket_place',\n",
    "    'description': \"Check if there are available tickets for the destination city. Use this whenever a customer asks about ticket availability, for example when they ask 'Is there an available ticket to this city?'\",\n",
    "    'parameters': {\n",
    "        'type' : 'object',\n",
    "        'properties': {\n",
    "            'destination_city': {\n",
    "                'type': 'string',\n",
    "                'description' : 'The city that the customer wants to check for ticket availability.',\n",
    "            },\n",
    "        },\n",
    "        'required': ['destination_city'],\n",
    "        #'additionalProperties': False\n",
    "    }\n",
    "}\n",
    "\n",
    "tickets_hour_function = {\n",
    "    'name': 'get_tickets_hours',\n",
    "    'description': \"Retrieve available ticket hours and prices for a given destination city. Use this whenever a customer asks about ticket times and costs, for example when they ask 'What time are the available flights to this city and how much do they cost?'\",\n",
    "    'parameters': {\n",
    "        'type': 'object',\n",
    "        'properties': {\n",
    "            'destination_city': {\n",
    "                'type' : 'string',\n",
    "                'description': \"The city for which the customer wants to check available ticket hours and prices.\",\n",
    "            },\n",
    "        },\n",
    "        'required': ['destination_city'],\n",
    "        #'additionalProperties': False\n",
    "    }\n",
    "}\n",
    "\n",
    "chair_status_function = {\n",
    "    'name': 'get_chair',\n",
    "    'description': \"Check whether a specific airplane seat is available or full. Use this whenever a customer asks about the status of a specific seat.\",\n",
    "    'parameters': {\n",
    "        'type' : 'object',\n",
    "        'properties': {\n",
    "            'number_of_chair' : {\n",
    "                'type': 'string',\n",
    "                'description': \"The seat number the customer wants to check.\",\n",
    "            },\n",
    "        },\n",
    "        'required': ['number_of_chair']\n",
    "    }\n",
    "}"
   ]
  },
  {
   "cell_type": "code",
   "execution_count": 15,
   "id": "91dd9851-283a-4e86-92f3-f7bad57ff155",
   "metadata": {},
   "outputs": [],
   "source": [
    "tools = [{'type': 'function', 'function': ticket_place_function},\n",
    "        {'type': 'function', 'function': tickets_hour_function},\n",
    "        {'type': 'function', 'function': chair_status_function}]"
   ]
  },
  {
   "cell_type": "code",
   "execution_count": 17,
   "id": "4125852e-0510-4f47-ace9-2450498e9141",
   "metadata": {},
   "outputs": [],
   "source": [
    "# The functions below are prepared for use by the AI ​​model.\n",
    "def handle_tool_call_v2(message):\n",
    "    tool_call = message.tool_calls[0]\n",
    "    function_name = tool_call.function.name\n",
    "    arguments = json.loads(tool_call.function.arguments)\n",
    "\n",
    "    if function_name == \"get_ticket_place\":\n",
    "        city = arguments.get('destination_city')\n",
    "        available_tickets = get_ticket_place(city)\n",
    "        response_content = {'destination_city': city, 'available_tickets': available_tickets}\n",
    "\n",
    "        response = {\n",
    "            'role': 'tool',\n",
    "            'content': json.dumps(response_content),\n",
    "            'tool_call_id': tool_call.id\n",
    "        }\n",
    "\n",
    "        return response, city\n",
    "\n",
    "    elif function_name == \"get_tickets_hours\":\n",
    "        city = arguments.get('destination_city')\n",
    "        tickets_hours_and_price = get_tickets_hours(city)\n",
    "        response_content = {'destination_city': city, 'tickets_hours_and_price': tickets_hours_and_price}\n",
    "\n",
    "        response = {\n",
    "            'role': 'tool',\n",
    "            'content': json.dumps(response_content),\n",
    "            'tool_call_id': tool_call.id\n",
    "        }\n",
    "\n",
    "        return response, city\n",
    "\n",
    "    elif function_name == \"get_chair\":\n",
    "        number_of_chair = arguments.get('number_of_chair')\n",
    "        chair_statu = get_chair(number_of_chair)\n",
    "        response_content = {'destination_city': number_of_chair, 'tickets_hours_and_price': chair_statu}\n",
    "\n",
    "        response = {\n",
    "            'role': 'tool',\n",
    "            'content': json.dumps(response_content),\n",
    "            'tool_call_id': tool_call.id\n",
    "        }\n",
    "\n",
    "        return response, number_of_chair"
   ]
  },
  {
   "cell_type": "code",
   "execution_count": 16,
   "id": "80c7689e-8f23-44d6-b780-cbcd0bdd9dd3",
   "metadata": {},
   "outputs": [],
   "source": [
    "# Chat function\n",
    "def chat_v2(message, history):\n",
    "    messages = [{'role': 'system', 'content': system_message}] + history + [{'role': 'user', 'content': message}]\n",
    "    response = openai.chat.completions.create(\n",
    "        model = 'gpt-4o-mini',\n",
    "        messages = messages,\n",
    "        tools = tools,\n",
    "    )\n",
    "\n",
    "    if response.choices[0].finish_reason == 'tool_calls':\n",
    "        message = response.choices[0].message\n",
    "        response, _ = handle_tool_call_v2(message)\n",
    "        messages.append(message)\n",
    "        messages.append(response)\n",
    "        response = openai.chat.completions.create(\n",
    "            model = 'gpt-4o-mini',\n",
    "            messages = messages\n",
    "        )\n",
    "        \n",
    "    return response.choices[0].message.content"
   ]
  },
  {
   "cell_type": "code",
   "execution_count": 35,
   "id": "54a78a2b-91e7-4e37-b38d-779dadca84e6",
   "metadata": {},
   "outputs": [],
   "source": [
    "# If You want to see chatbot you can use below code.\n",
    "#chatbot = gr.ChatInterface(fn = chat_v2, type = 'messages')\n",
    "#app = chatbot.launch()"
   ]
  },
  {
   "cell_type": "markdown",
   "id": "7fe44eeb-d731-41d2-b338-cd001e6f92ca",
   "metadata": {},
   "source": [
    "# CONCLUSION\n",
    "In this project, I used the GPT-4o-mini model at the Openai. I prepared the tools for my models and I used the gradio library to see the chat. This project is about selling tickets for an airline company. I want to see how to prepare AI model and tools for AI model. I hope my project was useful for you. Thank you for taking a look at my project. I will continue to share projects. If you want to be informed in advance, you can follow me from the links below.\n",
    "\n",
    "[LinkedIn](https://www.linkedin.com/in/ihsancenkiz/)<br>\n",
    "[GitHub](https://github.com/ihsncnkz)<br>\n",
    "[Kaggle](https://www.kaggle.com/ihsncnkz)<br>"
   ]
  },
  {
   "cell_type": "code",
   "execution_count": null,
   "id": "af8ace45-8b6f-4b0d-b5d9-616c464ca4c9",
   "metadata": {},
   "outputs": [],
   "source": []
  }
 ],
 "metadata": {
  "kernelspec": {
   "display_name": "Python 3 (ipykernel)",
   "language": "python",
   "name": "python3"
  },
  "language_info": {
   "codemirror_mode": {
    "name": "ipython",
    "version": 3
   },
   "file_extension": ".py",
   "mimetype": "text/x-python",
   "name": "python",
   "nbconvert_exporter": "python",
   "pygments_lexer": "ipython3",
   "version": "3.11.11"
  }
 },
 "nbformat": 4,
 "nbformat_minor": 5
}
